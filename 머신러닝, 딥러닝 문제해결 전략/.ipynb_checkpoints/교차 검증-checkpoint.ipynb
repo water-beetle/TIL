{
 "cells": [
  {
   "cell_type": "markdown",
   "id": "serial-lewis",
   "metadata": {},
   "source": [
    "# 교차 검증"
   ]
  },
  {
   "cell_type": "markdown",
   "id": "olympic-treat",
   "metadata": {},
   "source": [
    "## K 폴드 교차 검증\n",
    "전체 데이터를 K개 그룹으로 나누고, 하나는 검증데이터, k-1개는 훈련 데이터로 지정  \n",
    "검증데이터를 바꿔가며 학습"
   ]
  },
  {
   "cell_type": "code",
   "execution_count": 1,
   "id": "coral-tennessee",
   "metadata": {},
   "outputs": [
    {
     "name": "stdout",
     "output_type": "stream",
     "text": [
      "훈련 데이터: [2 3 4 5 6 7 8 9], 검증 데이터: [0 1]\n",
      "훈련 데이터: [0 1 4 5 6 7 8 9], 검증 데이터: [2 3]\n",
      "훈련 데이터: [0 1 2 3 6 7 8 9], 검증 데이터: [4 5]\n",
      "훈련 데이터: [0 1 2 3 4 5 8 9], 검증 데이터: [6 7]\n",
      "훈련 데이터: [0 1 2 3 4 5 6 7], 검증 데이터: [8 9]\n"
     ]
    }
   ],
   "source": [
    "import numpy as np\n",
    "from sklearn.model_selection import KFold\n",
    "\n",
    "data = np.array([0, 1, 2, 3, 4, 5, 6, 7, 8, 9])\n",
    "folds = KFold(n_splits=5, shuffle = False)\n",
    "\n",
    "for train_idx, valid_idx in folds.split(data):\n",
    "    print(f'훈련 데이터: {data[train_idx]}, 검증 데이터: {data[valid_idx]}')"
   ]
  },
  {
   "cell_type": "code",
   "execution_count": 2,
   "id": "ruled-stupid",
   "metadata": {},
   "outputs": [
    {
     "name": "stdout",
     "output_type": "stream",
     "text": [
      "훈련 데이터: [0 1 2 3 4 5 6 9], 검증 데이터: [7 8]\n",
      "훈련 데이터: [1 2 3 5 6 7 8 9], 검증 데이터: [0 4]\n",
      "훈련 데이터: [0 2 3 4 5 6 7 8], 검증 데이터: [1 9]\n",
      "훈련 데이터: [0 1 4 5 6 7 8 9], 검증 데이터: [2 3]\n",
      "훈련 데이터: [0 1 2 3 4 7 8 9], 검증 데이터: [5 6]\n"
     ]
    }
   ],
   "source": [
    "folds = KFold(n_splits=5, shuffle = True)\n",
    "\n",
    "for train_idx, valid_idx in folds.split(data):\n",
    "    print(f'훈련 데이터: {data[train_idx]}, 검증 데이터: {data[valid_idx]}')"
   ]
  },
  {
   "cell_type": "markdown",
   "id": "confidential-sugar",
   "metadata": {},
   "source": [
    "## Stratified K 폴드 교차 검증\n",
    "타깃값이 골고루 분포되게 폴드를 나누는 K 폴드 교차 검증"
   ]
  },
  {
   "cell_type": "code",
   "execution_count": 5,
   "id": "given-russell",
   "metadata": {},
   "outputs": [
    {
     "name": "stdout",
     "output_type": "stream",
     "text": [
      "Fold 1 검증 데이터 타깃값: \n",
      "['일반' '일반' '일반' '일반' '일반' '일반' '일반' '일반' '일반' '일반'] \n",
      "\n",
      "Fold 2 검증 데이터 타깃값: \n",
      "['스팸' '일반' '일반' '일반' '일반' '일반' '일반' '일반' '일반' '일반'] \n",
      "\n",
      "Fold 3 검증 데이터 타깃값: \n",
      "['스팸' '일반' '일반' '일반' '일반' '일반' '일반' '일반' '일반' '일반'] \n",
      "\n",
      "Fold 4 검증 데이터 타깃값: \n",
      "['스팸' '스팸' '일반' '일반' '일반' '일반' '일반' '일반' '일반' '일반'] \n",
      "\n",
      "Fold 5 검증 데이터 타깃값: \n",
      "['스팸' '일반' '일반' '일반' '일반' '일반' '일반' '일반' '일반' '일반'] \n",
      "\n"
     ]
    }
   ],
   "source": [
    "# 그냥 K fold 사용시 스팸의 분배가 균형적이지 않음\n",
    "\n",
    "y = np.array(['스팸']*5 + ['일반']*45)\n",
    "\n",
    "folds = KFold(n_splits=5, shuffle = True)\n",
    "\n",
    "for idx, (train_idx, valid_idx) in enumerate(folds.split(y)):\n",
    "    print(f'Fold {idx+1} 검증 데이터 타깃값: ')\n",
    "    print(y[valid_idx], '\\n')"
   ]
  },
  {
   "cell_type": "code",
   "execution_count": 6,
   "id": "imported-carolina",
   "metadata": {},
   "outputs": [
    {
     "name": "stdout",
     "output_type": "stream",
     "text": [
      "Fold 1 검증 데이터 타깃값: \n",
      "['스팸' '일반' '일반' '일반' '일반' '일반' '일반' '일반' '일반' '일반'] \n",
      "\n",
      "Fold 2 검증 데이터 타깃값: \n",
      "['스팸' '일반' '일반' '일반' '일반' '일반' '일반' '일반' '일반' '일반'] \n",
      "\n",
      "Fold 3 검증 데이터 타깃값: \n",
      "['스팸' '일반' '일반' '일반' '일반' '일반' '일반' '일반' '일반' '일반'] \n",
      "\n",
      "Fold 4 검증 데이터 타깃값: \n",
      "['스팸' '일반' '일반' '일반' '일반' '일반' '일반' '일반' '일반' '일반'] \n",
      "\n",
      "Fold 5 검증 데이터 타깃값: \n",
      "['스팸' '일반' '일반' '일반' '일반' '일반' '일반' '일반' '일반' '일반'] \n",
      "\n"
     ]
    }
   ],
   "source": [
    "from sklearn.model_selection import StratifiedKFold\n",
    "\n",
    "X = np.array(range(50))\n",
    "y = np.array(['스팸']*5 + ['일반']*45)\n",
    "\n",
    "folds = StratifiedKFold(n_splits=5)\n",
    "\n",
    "for idx, (train_idx, valid_idx) in enumerate(folds.split(X, y)):\n",
    "    print(f'Fold {idx+1} 검증 데이터 타깃값: ')\n",
    "    print(y[valid_idx], '\\n')"
   ]
  },
  {
   "cell_type": "code",
   "execution_count": null,
   "id": "artistic-projector",
   "metadata": {},
   "outputs": [],
   "source": []
  }
 ],
 "metadata": {
  "kernelspec": {
   "display_name": "Python 3",
   "language": "python",
   "name": "python3"
  },
  "language_info": {
   "codemirror_mode": {
    "name": "ipython",
    "version": 3
   },
   "file_extension": ".py",
   "mimetype": "text/x-python",
   "name": "python",
   "nbconvert_exporter": "python",
   "pygments_lexer": "ipython3",
   "version": "3.8.5"
  },
  "toc": {
   "base_numbering": 1,
   "nav_menu": {},
   "number_sections": true,
   "sideBar": true,
   "skip_h1_title": false,
   "title_cell": "Table of Contents",
   "title_sidebar": "Contents",
   "toc_cell": false,
   "toc_position": {},
   "toc_section_display": true,
   "toc_window_display": false
  }
 },
 "nbformat": 4,
 "nbformat_minor": 5
}
