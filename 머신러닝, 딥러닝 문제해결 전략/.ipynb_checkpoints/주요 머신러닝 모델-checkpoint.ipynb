{
 "cells": [
  {
   "cell_type": "markdown",
   "id": "allied-wisconsin",
   "metadata": {},
   "source": [
    "# 선형 회귀 모델"
   ]
  },
  {
   "cell_type": "code",
   "execution_count": 1,
   "id": "nutritional-player",
   "metadata": {},
   "outputs": [],
   "source": [
    "import numpy as np\n",
    "import matplotlib.pyplot as plt"
   ]
  },
  {
   "cell_type": "code",
   "execution_count": 2,
   "id": "professional-square",
   "metadata": {},
   "outputs": [
    {
     "data": {
      "text/plain": [
       "<matplotlib.collections.PathCollection at 0x20971f38fa0>"
      ]
     },
     "execution_count": 2,
     "metadata": {},
     "output_type": "execute_result"
    },
    {
     "data": {
      "image/png": "[encoded data removed]",
      "text/plain": [
       "<Figure size 432x288 with 1 Axes>"
      ]
     },
     "metadata": {
      "needs_background": "light"
     },
     "output_type": "display_data"
    }
   ],
   "source": [
    "np.random.seed(0)\n",
    "\n",
    "w0 = 5\n",
    "w1 = 2\n",
    "noise = np.random.randn(100, 1)\n",
    "\n",
    "x = 4 * np.random.rand(100, 1)\n",
    "y = w1 * x + w0 + noise\n",
    "\n",
    "plt.scatter(x, y)"
   ]
  },
  {
   "cell_type": "code",
   "execution_count": 5,
   "id": "genetic-venue",
   "metadata": {},
   "outputs": [
    {
     "name": "stdout",
     "output_type": "stream",
     "text": [
      "y절편(w0):  [5.09772262]\n",
      "회귀 계수(w1):  [[1.9808382]]\n"
     ]
    }
   ],
   "source": [
    "from sklearn.linear_model import LinearRegression\n",
    "\n",
    "linear_reg_model = LinearRegression()\n",
    "linear_reg_model.fit(x, y)\n",
    "\n",
    "print(\"y절편(w0): \", linear_reg_model.intercept_)\n",
    "print(\"회귀 계수(w1): \", linear_reg_model.coef_)"
   ]
  },
  {
   "cell_type": "code",
   "execution_count": 6,
   "id": "proper-experience",
   "metadata": {},
   "outputs": [
    {
     "data": {
      "text/plain": [
       "[<matplotlib.lines.Line2D at 0x209735d51c0>]"
      ]
     },
     "execution_count": 6,
     "metadata": {},
     "output_type": "execute_result"
    },
    {
     "data": {
      "image/png": "[encoded data removed]",
      "text/plain": [
       "<Figure size 432x288 with 1 Axes>"
      ]
     },
     "metadata": {
      "needs_background": "light"
     },
     "output_type": "display_data"
    }
   ],
   "source": [
    "y_pred = linear_reg_model.predict(x)\n",
    "\n",
    "plt.scatter(x, y)\n",
    "plt.plot(x, y_pred)"
   ]
  },
  {
   "cell_type": "markdown",
   "id": "accessory-forward",
   "metadata": {},
   "source": [
    "# Decision tree\n",
    "불순도(엔트로피 or 지니)를 최소화하는 방향으로 분할"
   ]
  },
  {
   "cell_type": "markdown",
   "id": "collaborative-toolbox",
   "metadata": {},
   "source": [
    "**DecisionTreeClassifier**\n",
    "\n",
    "* criterion : 분할 시 사용할 불순도 측정 지표\n",
    "    * 'gini' - 지니 불순도를 활용해 분할(default)\n",
    "    * 'entropy' - 정보이득(1-entropy) 방법으로 분할\n",
    "  \n",
    "  \n",
    "* max_depth : 트리의 최대 깊이\n",
    "    * max_depth를 규정하지 않으면 모든 말단 노드의 불순도가 0이 되거나,  \n",
    "    노드에 있는 데이터 수가 min_samples_split보다 작을 떄까지 트리 깊이가 깊어짐\n",
    "    * default : None\n",
    "  \n",
    "  \n",
    "* min_samples_split : 노드 분할을 위한 최소 데이터 개수\n",
    "    * 노드 내 데이터 개수가 이 값보다 작으면 더 이상 분할하지 않음\n",
    "    * 정수형으로 전달 - 최소 데이터 개수\n",
    "    * 실수형으로 전달 - 전체 데이터 개수 중 최소 데이터 개수 비율\n",
    "    * default : 2\n",
    "  \n",
    "  \n",
    "* min_samples_leaf : 말단 노드가 되기 위한 최소 데이터 개수\n",
    "    * 분할 후 노드 내 데이터 개수가 이 값보다 작으면 더이상 분할하지 않음\n",
    "    * default : 1\n",
    "    \n",
    "\n",
    "* max_features : 분할에 사용할 피처 개수\n",
    "    * 정수형 - 피처 개수\n",
    "    * 실수형 - 전체 피처 개수 중 분할에 사용될 피처 개수 비율\n",
    "    * 'auto' or 'sqrt' - sqrt(전체 피처 개수)\n",
    "    * 'log2' - log2(전체 피처 개수)\n",
    "    * None - 전체 피처(default)"
   ]
  },
  {
   "cell_type": "code",
   "execution_count": 7,
   "id": "alternate-thriller",
   "metadata": {},
   "outputs": [],
   "source": [
    "from sklearn.tree import DecisionTreeClassifier\n",
    "from sklearn.model_selection import train_test_split\n",
    "from sklearn.datasets import load_breast_cancer"
   ]
  },
  {
   "cell_type": "code",
   "execution_count": 9,
   "id": "unauthorized-sacramento",
   "metadata": {},
   "outputs": [],
   "source": [
    "cancer_data = load_breast_cancer()\n",
    "\n",
    "X_train, X_test, y_train, y_test = train_test_split(cancer_data['data'], cancer_data['target'],\n",
    "                                                   stratify = cancer_data['target'],\n",
    "                                                   test_size = 0.4,\n",
    "                                                   random_state = 42)"
   ]
  },
  {
   "cell_type": "code",
   "execution_count": 10,
   "id": "operating-accused",
   "metadata": {},
   "outputs": [
    {
     "data": {
      "text/plain": [
       "DecisionTreeClassifier(random_state=42)"
      ]
     },
     "execution_count": 10,
     "metadata": {},
     "output_type": "execute_result"
    }
   ],
   "source": [
    "decisiontree = DecisionTreeClassifier(random_state = 42)\n",
    "decisiontree.fit(X_train, y_train)"
   ]
  },
  {
   "cell_type": "code",
   "execution_count": 12,
   "id": "earned-terrain",
   "metadata": {},
   "outputs": [
    {
     "name": "stdout",
     "output_type": "stream",
     "text": [
      "결정 트리 정확도:  0.930\n"
     ]
    }
   ],
   "source": [
    "accuracy = decisiontree.score(X_test, y_test)\n",
    "print(f'결정 트리 정확도: {accuracy: .3f}')"
   ]
  },
  {
   "cell_type": "markdown",
   "id": "fundamental-delaware",
   "metadata": {},
   "source": [
    "# 앙상블 학습\n",
    "다양한 모델이 내린 예측 결과를 결합하는 기법"
   ]
  },
  {
   "cell_type": "markdown",
   "id": "capable-placement",
   "metadata": {},
   "source": [
    "* Voting - 개별 결과를 종합해 최종 결과를 결정하는 방식\n",
    "    * Hard Voting - 다수결 투표 방식으로 최종 예측값을 정함\n",
    "    * Soft Voting - 개별 예측 확률들의 평균을 최종 예측 확률로 정함\n",
    "    \n",
    "  \n",
    "* Bagging - 개별 모델로 예측한 결과를 결합해 최종 예측을 정하는 방식(개별 모델이 서로 다른 샘플링 데이터를 활용)\n",
    "    * 전체 훈련 데이터셋에서 무작위 샘플링한 데이터로 개별 모델을 훈련\n",
    "    * 훈련된 개별 모델로 결과 예측\n",
    "    * 각 모델이 예측한 값들을 Voting 하여 최종 예측값 구함\n",
    "    * ex) 랜덤포레스트\n",
    "    \n",
    "     \n",
    "* Boosting - 가중치를 활용해 분류 성능이 약한 모델을 강하게 만드는 기법\n",
    "    * 배깅은 결정 트리 각각이 서로 독립적으로 결과를 예측한 다음 보팅하여 최종 결과를 도출함  \n",
    "    하지만 부스팅에서는 '모델 간 협력'이 이루어짐, 이전 모델이 잘못 예측한 데이터에 가중치를 부여하고  \n",
    "    잘못 예측한 데이터에 더 집중해 훈련함\n",
    "    \n",
    "    * ex) XGBoost, LightGBM"
   ]
  },
  {
   "cell_type": "markdown",
   "id": "daily-reduction",
   "metadata": {},
   "source": [
    "# Random Forest\n",
    "결정 트리를 배깅 방식으로 결합한 모델"
   ]
  },
  {
   "cell_type": "markdown",
   "id": "desperate-fossil",
   "metadata": {},
   "source": [
    "**RandomForestClassifier**\n",
    "\n",
    "* n_estimators: 랜덤 포레스트를 구성할 결정 트리 개수\n",
    "    * default - 100\n",
    "* 나머지 파라미터들 - Decision Tree와 같음"
   ]
  },
  {
   "cell_type": "code",
   "execution_count": 13,
   "id": "prostate-exclusive",
   "metadata": {},
   "outputs": [],
   "source": [
    "from sklearn.ensemble import RandomForestClassifier\n",
    "from sklearn.model_selection import train_test_split\n",
    "from sklearn.datasets import load_breast_cancer\n",
    "\n",
    "cancer_data = load_breast_cancer()\n",
    "\n",
    "X_train, X_test, y_train, y_test = train_test_split(cancer_data['data'], cancer_data['target'],\n",
    "                                                   stratify = cancer_data['target'],\n",
    "                                                   test_size = 0.4,\n",
    "                                                   random_state = 42)"
   ]
  },
  {
   "cell_type": "code",
   "execution_count": 14,
   "id": "unsigned-madagascar",
   "metadata": {},
   "outputs": [
    {
     "data": {
      "text/plain": [
       "RandomForestClassifier(random_state=42)"
      ]
     },
     "execution_count": 14,
     "metadata": {},
     "output_type": "execute_result"
    }
   ],
   "source": [
    "randomforest = RandomForestClassifier(random_state=42)\n",
    "randomforest.fit(X_train, y_train)"
   ]
  },
  {
   "cell_type": "code",
   "execution_count": 16,
   "id": "competitive-authority",
   "metadata": {},
   "outputs": [
    {
     "name": "stdout",
     "output_type": "stream",
     "text": [
      "랜던 포레스트 정확도 : 0.939\n"
     ]
    }
   ],
   "source": [
    "accuracy = randomforest.score(X_test, y_test)\n",
    "print(f'랜던 포레스트 정확도 : {accuracy:.3f}')"
   ]
  },
  {
   "cell_type": "markdown",
   "id": "continuing-dragon",
   "metadata": {},
   "source": [
    "# XGBoost\n",
    "트리 기반 부스팅 알고리즘  \n",
    " \n",
    "랜덤 포레스트는 결정 트리를 병렬로 배치하지만, XGBoost는 직렬로 배치해 사용.  \n",
    "랜덤 포레스트는 배깅 방식, XGBoost는 부스팅 방식, 부스팅 방식이라 직전 트리가 예측한 값을 다음 트리가 활용해서 예측값 수정"
   ]
  },
  {
   "cell_type": "markdown",
   "id": "silver-halifax",
   "metadata": {},
   "source": [
    "파이썬 래퍼 XGBoost를 사용하려면 DMatrix 객체를 활용해 XGBoost 전용 데이터셋을 만들어야함    \n",
    "\n",
    "**xgboost.DMatrix()**  \n",
    "* data - xgboost.DMatrix용 데이터셋\n",
    "    * numpy array, pandas Dataframe, scipy.sparse, os.PathLIke, 문자열 타입 전달 가능\n",
    "* label - 타깃값\n",
    "    * 배열 타입 전달"
   ]
  },
  {
   "cell_type": "markdown",
   "id": "skilled-favor",
   "metadata": {},
   "source": [
    "**XGBoost**\n",
    "* booster - 부스팅 알고리즘\n",
    "    * 트리 기반 모델일 떄는 'gbtree', 'dart' 선택, 선형 모델일때는 'gblinear'를 선택  \n",
    "    ('gblinear'는 성능이 나빠 잘 쓰지 않음, 'dart'는 드롭아웃을 적용한 'gbtree'라고 보면 됨)\n",
    "\n",
    "\n",
    "* objective - 훈련 목적\n",
    "    * regression - 'reg:squarederror'(default)\n",
    "    * 이진 분류 - 'binary:logistic'\n",
    "    * 다중 분류 - 'mmulti:softmax'\n",
    "    * 확률값 구하는 다중분류 : 'multi:softprob'\n",
    "   \n",
    "   \n",
    "* eta(learning_rate) - 학습률(부스팅 스텝을 반복하면서 모델을 업데이트하는 데 사용되는 비율)\n",
    "    * 일반적으로 0.0001~0.1 사이 값 사용(default = 0.3)\n",
    "   \n",
    "   \n",
    "* max_depth - 개별 트리의 최대 깊이\n",
    "    * 과대 적합을 제어하는 파라미터\n",
    "    * 트리 깊이가 깊을수록 모델이 복잡해지고 과대적합될 우려가 있음\n",
    "    * 일반적으로 3~10 사이의 값 사용(default = 6)\n",
    "    \n",
    "\n",
    "* subsample - 개별 트리를 훈련할 때 사용할 데이터 샘플링 비율\n",
    "    * 일반적으로 0.6~1 사이의 값 사용(default = 1)\n",
    "   \n",
    "   \n",
    "* colsample_bytree - 개별 트리를 훈련할 때 사용하는 피처 샘플링 비율\n",
    "    * 일반적으로 0.6~1 사이의 값 사용(default = 1)\n",
    "    \n",
    "    \n",
    "* alpha - L1 Regularization\n",
    "    * default = 0\n",
    "    \n",
    "    \n",
    " * lambda - L2 Regularization\n",
    "     * 파이썬 lambda 함수와 혼동을 피해 reg_lambda를 주로 사용\n",
    "     * default = 1\n",
    "     \n",
    "\n",
    "* gamma(min_split_loss) - 말단 노드가 분할하기 위한 최소 손실 감소 값\n",
    "    * 0 이상 값으로 설정할 수 있음\n",
    "    *  손실 감소가 gamma보다 크면 말단 노드를 분할\n",
    "    * 값이 클수록 과대적합 방지 효과\n",
    "    \n",
    "    \n",
    "* min_child_weight - 과대적합 방지를 위한 값\n",
    "    * 0 이상 값으로 설정할 수 있음\n",
    "    * 값이 클수록 과대적합 방지 효과\n",
    "    * default = 1\n",
    "    \n",
    "    \n",
    "* scale_pos_weight - 불균형 데이터 가중치 조정값\n",
    "    * 타깃값이 불균형할 때 양성값에 scale_pos_weight만큼 가중치를 줘서 균형을 맞춤\n",
    "    * 일반적으로 scale_pos_weight값을 (음성 타깃값 개수 / 양성 타깃값 개수)로 설정\n",
    "    * default = 1\n",
    "    \n",
    "\n",
    "* random_state"
   ]
  },
  {
   "cell_type": "markdown",
   "id": "biological-interim",
   "metadata": {},
   "source": [
    "**xgboost.train()**\n",
    "\n",
    "* params - XGBoost 모델의 하이퍼파라미터 목록\n",
    "* dtrain - 훈련 데이터셋(xgboost.DMatrix 타입으로 전달)\n",
    "* num_boost_round - 부스팅 반복 횟수\n",
    "    * 정수형 타입, 클수록 과대적합 우려\n",
    "    * num_boost_round를 늘리면 learning_rate를 줄여야함\n",
    "    * default = 10\n",
    "* evals - 모델 성능 평가용 검증 데이터셋\n",
    "    * (DMatrix, 문자열) 쌍들을 원소로 갖는 리스트 타입으로 전달, 검증 데이터셋 이름을 원하는 대로 문자열에 정하면 됨\n",
    "* feval - 검증용 평가지표\n",
    "    * 예측값과 실제값을 파라미터로 전달받아, 평가지표명과 평가점수를 반환하는 함수여야함\n",
    "* maximize - feval 평가점수면 높으면 좋은지 여부(True or False)\n",
    "* early_stoppping_rounds - 조기 종료 조건\n",
    "* verbose_eval - 성능 점수 로그 설정 값(True or False or Int)\n",
    "    * True로 설정하면 매 부스팅 스텝마다 평가점수를 출력\n",
    "    * 정수면 평가점수를 매 verbose_eval 스텝마다 출력"
   ]
  },
  {
   "cell_type": "markdown",
   "id": "moving-machine",
   "metadata": {},
   "source": [
    "# LightGBM\n",
    "트리기반 그리고 말단 노드 중심으로 예측 오류를 최소화하게끔 분할 -> 균형 유지를 위한 추가 연산 x -> 훈련 속도 빨라짐, 과대 적합 쉬움"
   ]
  },
  {
   "cell_type": "markdown",
   "id": "acting-psychology",
   "metadata": {},
   "source": [
    "파이썬 래퍼 LightGBM를 사용하려면 lightgbm.Dataset()으로 전용 데이터셋을 만들어야함\n",
    "\n",
    "**lightgbm.Dataset()**\n",
    "* data - lightgbm.Dataset용 데이터셋\n",
    "* label - 타깃 값"
   ]
  },
  {
   "cell_type": "markdown",
   "id": "automotive-desperate",
   "metadata": {},
   "source": [
    "**LightGBM**\n",
    "\n",
    "* boosting_type - 부스팅 알고리즘\n",
    "    * 'gbdt', 'dart', 'goss', 'rf'가 있음\n",
    "    \n",
    "\n",
    "* objective - 훈련목적\n",
    "    * 'regression', 'binary', 'multiclass'가 있음\n",
    "    \n",
    "\n",
    "* learning_rate(eta) - 학습률\n",
    "\n",
    "\n",
    "* num_leaves - 개별 트리가 가질 수 있는 최대 말단 노드 개수(default=31)\n",
    "\n",
    "\n",
    "* max_depth - 개별 트리의 최대 깊이\n",
    "    * LightGBM은 말단 노드 중심으로 분할하므로 max_depth를 균형 중심 분할 모델(XGBoost)보다 크게 잡는게 좋음\n",
    "    * default = -1(제한 없음)\n",
    "    \n",
    "* bagging_fraction(subsample) - 개별 트리를 훈련할 때 사용할 데이터 샘플링 비율\n",
    "    * 배깅을 활성화하려면 bagging_freq 파라미터를 0이 아닌 값으로 설정해야함\n",
    "    \n",
    "    \n",
    "* freature_fraction(colsample_bytree) - 개별 트리를 훈련할 때 사용하는 피처 샘플링 비율\n",
    "\n",
    "\n",
    "* lambda_l1(reg_alpha) - L1 regularization\n",
    "\n",
    "\n",
    "* lambda_l2(rag_lambda) - L2 regularization\n",
    "\n",
    "\n",
    "* min_child_samples - 말단 노드가 되기 위해 필요한 최소 데이터 개수\n",
    "    * 값이 클수록 과대적합 방지(default=20)\n",
    "    \n",
    "    \n",
    "* bagging_freq(subsample_freq) - 배깅 수행 빈도\n",
    "    * 몇번의 반복마다 배깅을 수행할지 결정\n",
    "    * 0 전달 시 배깅 x (default)\n",
    "    * 1 전달 시 매 반복마다 트리가 새로운 샘플링 데이터로 학습\n",
    "    \n",
    "    \n",
    "* force_row_wise - 메모리 용량이 충분하지 않을 떄 메모리 효율을 높이는 파라미트\n",
    "    * True 전달 시 메모리 효율 좋아짐\n",
    "    \n",
    "    \n",
    "* random_state\n",
    "    "
   ]
  },
  {
   "cell_type": "markdown",
   "id": "impressed-sailing",
   "metadata": {},
   "source": [
    "**lightgbm.train()**\n",
    "\n",
    "* params - LightGBM 모델의 하이퍼파라미터 목록(딕셔너리 형태로 전달)\n",
    "* train_set - 훈련 데이터셋(lightgbm.Dataset 타입으로 전달)\n",
    "* num_boosts_round - 부스팅 반복 횟수(default = 100)\n",
    "* valid_sets - 모델 성능 평가용 검증 데이터셋\n",
    "* feval - 검증용 평가 지표(사용자 정의 함수)\n",
    "     * 예측값과 실제값을 파라미터로 전달받아, 평가지표명, 평가점수, 평가점수가 크면 좋은지 여부 반환하는 함수여야함\n",
    "* categorical_feature - 범주형 데이터 파라미터\n",
    "    * 이 파라미터에 전달된 데이터를 범주형 데이터로 인식\n",
    "    * 아무것도 전달하지 않으면 category타입을 범주형 데이터로 인식\n",
    "* early_stopping_rounds - 조기종료 조건\n",
    "* verbose_eval - 성능 점수 로그 설정 값"
   ]
  },
  {
   "cell_type": "code",
   "execution_count": null,
   "id": "demanding-ceramic",
   "metadata": {},
   "outputs": [],
   "source": []
  }
 ],
 "metadata": {
  "kernelspec": {
   "display_name": "Python 3",
   "language": "python",
   "name": "python3"
  },
  "language_info": {
   "codemirror_mode": {
    "name": "ipython",
    "version": 3
   },
   "file_extension": ".py",
   "mimetype": "text/x-python",
   "name": "python",
   "nbconvert_exporter": "python",
   "pygments_lexer": "ipython3",
   "version": "3.8.5"
  },
  "toc": {
   "base_numbering": 1,
   "nav_menu": {},
   "number_sections": true,
   "sideBar": true,
   "skip_h1_title": false,
   "title_cell": "Table of Contents",
   "title_sidebar": "Contents",
   "toc_cell": false,
   "toc_position": {},
   "toc_section_display": true,
   "toc_window_display": false
  }
 },
 "nbformat": 4,
 "nbformat_minor": 5
}
