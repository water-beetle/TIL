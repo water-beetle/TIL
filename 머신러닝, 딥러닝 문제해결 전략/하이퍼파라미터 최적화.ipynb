{
 "cells": [
  {
   "cell_type": "markdown",
   "id": "comparative-expense",
   "metadata": {},
   "source": [
    "# 그리드서치\n",
    "\n",
    "주어진 하이퍼파라미터를 모두 순회하며 가장 좋은 성능을 내는 값을 찾음\n",
    "시간이 오래걸림"
   ]
  },
  {
   "cell_type": "markdown",
   "id": "brazilian-agenda",
   "metadata": {},
   "source": [
    "# 랜덤 서치\n",
    "하이퍼파라미터를 무작위로 탐색해 가장 좋은 성능을 내는 값을 찾는 기법\n",
    "무작위라는 한계 때문에 그리드서치나 베이지안 최적화에 비해 사용 빈도가 떨어짐\n",
    "\n",
    "RandomizedSearchCV()"
   ]
  },
  {
   "cell_type": "markdown",
   "id": "unlimited-chorus",
   "metadata": {},
   "source": [
    "# 베이지안 최적화\n",
    "\n",
    "사전 정보를 바탕으로 최적 하이퍼파라미터 값을 확률적으로 추정하며 탐색하는 기법  \n",
    "그리드서치나 랜덤서치보다 최적 하이퍼파라미터를 더 빠르고 효율적으로 찾아줌"
   ]
  },
  {
   "cell_type": "markdown",
   "id": "convinced-maldives",
   "metadata": {},
   "source": [
    "**bayes_opt**\n",
    "1. 하이퍼파라미터 탐색 범위 설정 : 최적값을 찾고 싶은 하이퍼파라미터의 범위 설정\n",
    "2. 평가지표 계산 함수 정의 : 탐색하려는 하이퍼파라미터를 인수로 받아 평가지표 값을 계산해주는 함수 정의\n",
    "3. BayesianOptimization 객체 생성 : bayes_opt 패키지의 BayesianOptimization 객체를 생성(평가지표 계산함수, 하이퍼파라미터 탐색범위를 인수로 받음)\n",
    "4. 베이지안 최적화 수행 : 3에서 생성한 BayesianOptimization 객체의 maximize()메서드를 호출  \n",
    "하이퍼파라미터 범위 내 값을 평가지표 계산 함수에 전달하면서 평가지표값을 구함"
   ]
  },
  {
   "cell_type": "code",
   "execution_count": 2,
   "id": "returning-italic",
   "metadata": {},
   "outputs": [],
   "source": [
    "# 하이퍼파라미터 탐색 범위 설정\n",
    "param_bounds = {'x' : (-1, 5),\n",
    "               'y' : (0, 4)}"
   ]
  },
  {
   "cell_type": "code",
   "execution_count": 3,
   "id": "significant-canvas",
   "metadata": {},
   "outputs": [],
   "source": [
    "# 평가지표 계산 함수 정의\n",
    "# 베이지안 최적화는 평가지표 계산 함수로 구한 평가점수를 최대화하는 방향으로 하이퍼파라미터 탐색\n",
    "def eval_function(x ,y):\n",
    "    return -x ** 2 - (y - 2) ** 2 + 10"
   ]
  },
  {
   "cell_type": "code",
   "execution_count": 7,
   "id": "accompanied-timber",
   "metadata": {},
   "outputs": [],
   "source": [
    "# 베이지안 최적화 객체 생성\n",
    "from bayes_opt import BayesianOptimization\n",
    "\n",
    "optimizer = BayesianOptimization(f = eval_function,\n",
    "                                pbounds = param_bounds,\n",
    "                                random_state = 42)"
   ]
  },
  {
   "cell_type": "code",
   "execution_count": 8,
   "id": "fallen-martin",
   "metadata": {},
   "outputs": [
    {
     "name": "stdout",
     "output_type": "stream",
     "text": [
      "|   iter    |  target   |     x     |     y     |\n",
      "-------------------------------------------------\n",
      "| \u001b[0m 1       \u001b[0m | \u001b[0m 5.194   \u001b[0m | \u001b[0m 1.247   \u001b[0m | \u001b[0m 3.803   \u001b[0m |\n",
      "| \u001b[0m 2       \u001b[0m | \u001b[0m-1.661   \u001b[0m | \u001b[0m 3.392   \u001b[0m | \u001b[0m 2.395   \u001b[0m |\n",
      "| \u001b[0m 3       \u001b[0m | \u001b[0m 5.143   \u001b[0m | \u001b[0m 1.31    \u001b[0m | \u001b[0m 3.772   \u001b[0m |\n",
      "| \u001b[95m 4       \u001b[0m | \u001b[95m 8.943   \u001b[0m | \u001b[95m-1.0     \u001b[0m | \u001b[95m 2.239   \u001b[0m |\n",
      "| \u001b[0m 5       \u001b[0m | \u001b[0m 5.0     \u001b[0m | \u001b[0m-1.0     \u001b[0m | \u001b[0m 0.0     \u001b[0m |\n",
      "| \u001b[0m 6       \u001b[0m | \u001b[0m 5.293   \u001b[0m | \u001b[0m-1.0     \u001b[0m | \u001b[0m 3.925   \u001b[0m |\n",
      "| \u001b[95m 7       \u001b[0m | \u001b[95m 9.913   \u001b[0m | \u001b[95m 0.2061  \u001b[0m | \u001b[95m 1.789   \u001b[0m |\n",
      "| \u001b[0m 8       \u001b[0m | \u001b[0m 4.379   \u001b[0m | \u001b[0m 1.273   \u001b[0m | \u001b[0m 0.0     \u001b[0m |\n",
      "| \u001b[0m 9       \u001b[0m | \u001b[0m 9.644   \u001b[0m | \u001b[0m 0.05115 \u001b[0m | \u001b[0m 2.594   \u001b[0m |\n",
      "| \u001b[0m 10      \u001b[0m | \u001b[0m 9.782   \u001b[0m | \u001b[0m-0.3897  \u001b[0m | \u001b[0m 1.743   \u001b[0m |\n",
      "| \u001b[95m 11      \u001b[0m | \u001b[95m 9.957   \u001b[0m | \u001b[95m-0.1514  \u001b[0m | \u001b[95m 2.14    \u001b[0m |\n",
      "| \u001b[0m 12      \u001b[0m | \u001b[0m 9.603   \u001b[0m | \u001b[0m 0.5752  \u001b[0m | \u001b[0m 2.258   \u001b[0m |\n",
      "=================================================\n"
     ]
    }
   ],
   "source": [
    "# maximize() 메서들로 최적화 수행\n",
    "# 파라미터\n",
    "# init_points - 랜덤 탐색을 수행할 스텝 횟수, 랜덤 탐색은 탐색 공간을 다양화함으로써 최적화에 도움을 줄 수 있음\n",
    "# n_iter - 베이지안 최적화를 수행할 스텝 횟수, 스텝 횟수가 많을수록 최적 값을 찾을 가능성이 높음\n",
    "\n",
    "optimizer.maximize(init_points=2, n_iter = 10)"
   ]
  },
  {
   "cell_type": "code",
   "execution_count": 9,
   "id": "accepted-advance",
   "metadata": {},
   "outputs": [
    {
     "data": {
      "text/plain": [
       "{'target': 9.957496492695453,\n",
       " 'params': {'x': -0.15137227642936765, 'y': 2.139964071222359}}"
      ]
     },
     "execution_count": 9,
     "metadata": {},
     "output_type": "execute_result"
    }
   ],
   "source": [
    "# 최적 하이퍼파라미터\n",
    "optimizer.max"
   ]
  },
  {
   "cell_type": "code",
   "execution_count": null,
   "id": "twenty-marketplace",
   "metadata": {},
   "outputs": [],
   "source": []
  }
 ],
 "metadata": {
  "kernelspec": {
   "display_name": "Python 3",
   "language": "python",
   "name": "python3"
  },
  "language_info": {
   "codemirror_mode": {
    "name": "ipython",
    "version": 3
   },
   "file_extension": ".py",
   "mimetype": "text/x-python",
   "name": "python",
   "nbconvert_exporter": "python",
   "pygments_lexer": "ipython3",
   "version": "3.8.5"
  },
  "toc": {
   "base_numbering": 1,
   "nav_menu": {},
   "number_sections": true,
   "sideBar": true,
   "skip_h1_title": false,
   "title_cell": "Table of Contents",
   "title_sidebar": "Contents",
   "toc_cell": false,
   "toc_position": {},
   "toc_section_display": true,
   "toc_window_display": false
  }
 },
 "nbformat": 4,
 "nbformat_minor": 5
}
